{
  "nbformat": 4,
  "nbformat_minor": 0,
  "metadata": {
    "colab": {
      "provenance": [],
      "authorship_tag": "ABX9TyO5zg8Yze8c7PcukFUgt8Ta",
      "include_colab_link": true
    },
    "kernelspec": {
      "name": "python3",
      "display_name": "Python 3"
    },
    "language_info": {
      "name": "python"
    }
  },
  "cells": [
    {
      "cell_type": "markdown",
      "metadata": {
        "id": "view-in-github",
        "colab_type": "text"
      },
      "source": [
        "<a href=\"https://colab.research.google.com/github/KemalYazid/PBO-1/blob/main/sesi3.ipynb\" target=\"_parent\"><img src=\"https://colab.research.google.com/assets/colab-badge.svg\" alt=\"Open In Colab\"/></a>"
      ]
    },
    {
      "cell_type": "markdown",
      "source": [
        "Contoh sederhana perulangan for"
      ],
      "metadata": {
        "id": "skm7jT9exNqx"
      }
    },
    {
      "cell_type": "code",
      "source": [
        "# Deklarasi variabel contoh dan 10 itu sebagai tanda 10 kali perulangan\n",
        "contoh = 10\n",
        "\n",
        "# Variabel i berfungsi untuk menampung indeks,\n",
        "# dan fungsi range() berfungsi untuk membuat list dari 0-10.\n",
        "for i in range(contoh):\n",
        "    print (\"Perulangan ke-\" +str(i))"
      ],
      "metadata": {
        "colab": {
          "base_uri": "https://localhost:8080/"
        },
        "id": "Dwfgut1ixnuP",
        "outputId": "98ee2745-38c2-4494-99c8-52e0d93f3dbe"
      },
      "execution_count": 11,
      "outputs": [
        {
          "output_type": "stream",
          "name": "stdout",
          "text": [
            "Perulangan ke-0\n",
            "Perulangan ke-1\n",
            "Perulangan ke-2\n",
            "Perulangan ke-3\n",
            "Perulangan ke-4\n",
            "Perulangan ke-5\n",
            "Perulangan ke-6\n",
            "Perulangan ke-7\n",
            "Perulangan ke-8\n",
            "Perulangan ke-9\n"
          ]
        }
      ]
    },
    {
      "cell_type": "code",
      "source": [
        "# Menampilkan range dari kumpulan deret tertentu\n",
        "# range(5,10) akan membuat deret angka mulai dari 5, 6, 7, 8, dan 9.\n",
        "\n",
        "for i in range(5,10):\n",
        "  print(i)"
      ],
      "metadata": {
        "colab": {
          "base_uri": "https://localhost:8080/"
        },
        "id": "howUArRmxr2k",
        "outputId": "523d9377-579f-4d37-f709-c88874e6488d"
      },
      "execution_count": 12,
      "outputs": [
        {
          "output_type": "stream",
          "name": "stdout",
          "text": [
            "5\n",
            "6\n",
            "7\n",
            "8\n",
            "9\n"
          ]
        }
      ]
    },
    {
      "cell_type": "markdown",
      "source": [
        "Contoh menampilkan isi dalam body perulangan"
      ],
      "metadata": {
        "id": "8MbRloHTxu_B"
      }
    },
    {
      "cell_type": "code",
      "source": [
        "# Deklarasi variabel contoh2 dengan tipe list\n",
        "contoh2 = ['saya','suka','minum','kopi', 'gayo']\n",
        "\n",
        "for isi in contoh2:\n",
        "    print (isi)"
      ],
      "metadata": {
        "colab": {
          "base_uri": "https://localhost:8080/"
        },
        "id": "uxIOJX6vxxRH",
        "outputId": "ff06c1dc-db60-43ba-8bbc-9395fc8aa62a"
      },
      "execution_count": 13,
      "outputs": [
        {
          "output_type": "stream",
          "name": "stdout",
          "text": [
            "saya\n",
            "suka\n",
            "minum\n",
            "kopi\n",
            "gayo\n"
          ]
        }
      ]
    },
    {
      "cell_type": "markdown",
      "source": [
        "Contoh menggunakan while"
      ],
      "metadata": {
        "id": "XsPad7mkyDQW"
      }
    },
    {
      "cell_type": "code",
      "source": [
        "# Deklarasi variabel hit\n",
        "hit = 0\n",
        "# Membuat kondisi\n",
        "while (hit < 5):\n",
        "    print(hit, \"kurang dari 5\")\n",
        "    hit = hit + 1\n",
        "else:\n",
        "# Menampilkan output salam jika kondisi sudah terpenuhi\n",
        "    print(\"Salammmm\")"
      ],
      "metadata": {
        "colab": {
          "base_uri": "https://localhost:8080/"
        },
        "id": "f5xo4pQgyG6j",
        "outputId": "1e090cf3-2979-4efa-a030-42193a84f637"
      },
      "execution_count": 14,
      "outputs": [
        {
          "output_type": "stream",
          "name": "stdout",
          "text": [
            "0 kurang dari 5\n",
            "1 kurang dari 5\n",
            "2 kurang dari 5\n",
            "3 kurang dari 5\n",
            "4 kurang dari 5\n",
            "Salammmm\n"
          ]
        }
      ]
    },
    {
      "cell_type": "markdown",
      "source": [
        "Program Menghitung Harga Tiket Masuk"
      ],
      "metadata": {
        "id": "SCznuXz9yLpo"
      }
    },
    {
      "cell_type": "code",
      "source": [
        "##\n",
        "# Program menghitung Faktor Persekutuan Terbesa\n",
        "#\n",
        "\n",
        "# Membaca dua bilangan positif dari user\n",
        "n = int(input(\"Masukkan bilangan positif:\"))\n",
        "m = int(input(\"Masukkan bilangan positif:\"))\n",
        "\n",
        "# Inisialisasi variabel untuk nilai terkecil dari n dan m\n",
        "d = min(n, m)\n",
        "\n",
        "# Gunakan loop while untuk mencari FPT\n",
        "while n % d != 0 or m % d != 0:\n",
        "  d = d - 1\n",
        "\n",
        "# Menampilkan hasil\n",
        "print(\"Faktor persekutuan terbesar dari\", n, \"dan\", m, \" adalah\", d)"
      ],
      "metadata": {
        "colab": {
          "base_uri": "https://localhost:8080/"
        },
        "id": "9yy8Es7DyOz4",
        "outputId": "247f696d-0027-4278-ae1d-754ca94daa82"
      },
      "execution_count": 15,
      "outputs": [
        {
          "output_type": "stream",
          "name": "stdout",
          "text": [
            "Masukkan bilangan positif:2\n",
            "Masukkan bilangan positif:3\n",
            "Faktor persekutuan terbesar dari 2 dan 3  adalah 1\n"
          ]
        }
      ]
    },
    {
      "cell_type": "markdown",
      "source": [
        "Program Mencari Nilai Maksimum dari 100 bilangan bulat"
      ],
      "metadata": {
        "id": "3W94gW1Xyafa"
      }
    },
    {
      "cell_type": "code",
      "source": [
        "##\n",
        "# Menentukan nilai maksimum 100 bilangan bulat, menghitung berapa kali\n",
        "# perulangan\n",
        "\n",
        "from random import randrange\n",
        "\n",
        "BIL_ITEMS = 100\n",
        "\n",
        "# Generate the first number and menampilkan nya\n",
        "maks_nilai = randrange(1, BIL_ITEMS + 1)\n",
        "print(maks_nilai)\n",
        "\n",
        "# Menghitung berapa kali perubahan\n",
        "bil_update = 0\n",
        "\n",
        "# Untuk setiap bilangan\n",
        "for i in range(1, BIL_ITEMS):\n",
        "  # Generate bilangan acak\n",
        "  current = randrange(1, BIL_ITEMS + 1)\n",
        "\n",
        "  # Kondisi jika ditemukan bilangan terbesar\n",
        "  if current > maks_nilai:\n",
        "    # Update nilai maksimum dan hitung perubahan\n",
        "    maks_nilai = current\n",
        "    bil_update = bil_update + 1\n",
        "    # Tampilkan bilangan jika masih ada proses update\n",
        "    print(current, \"<== Update\")\n",
        "  else:\n",
        "    #Tampilkan bilangan\n",
        "    print(current)\n",
        "\n",
        "# Tampilkan Hasil Terakhir\n",
        "print(\" Nilai maksimum yang ditemukan adalah\", maks_nilai)\n",
        "print(\"Nilai maksimum yang di-update\", bil_update, \"kali\")"
      ],
      "metadata": {
        "colab": {
          "base_uri": "https://localhost:8080/"
        },
        "id": "QwI7Q6doydON",
        "outputId": "0fdddbdc-1988-4fab-b740-108c96d6f9ce"
      },
      "execution_count": 16,
      "outputs": [
        {
          "output_type": "stream",
          "name": "stdout",
          "text": [
            "57\n",
            "99 <== Update\n",
            "5\n",
            "85\n",
            "54\n",
            "73\n",
            "18\n",
            "68\n",
            "48\n",
            "23\n",
            "56\n",
            "89\n",
            "95\n",
            "46\n",
            "10\n",
            "17\n",
            "87\n",
            "10\n",
            "31\n",
            "38\n",
            "6\n",
            "12\n",
            "92\n",
            "25\n",
            "49\n",
            "72\n",
            "61\n",
            "76\n",
            "2\n",
            "25\n",
            "43\n",
            "12\n",
            "7\n",
            "5\n",
            "70\n",
            "6\n",
            "53\n",
            "12\n",
            "87\n",
            "59\n",
            "36\n",
            "54\n",
            "55\n",
            "59\n",
            "88\n",
            "65\n",
            "43\n",
            "41\n",
            "85\n",
            "100 <== Update\n",
            "4\n",
            "36\n",
            "8\n",
            "37\n",
            "18\n",
            "10\n",
            "93\n",
            "32\n",
            "97\n",
            "20\n",
            "80\n",
            "5\n",
            "47\n",
            "50\n",
            "17\n",
            "40\n",
            "42\n",
            "80\n",
            "61\n",
            "39\n",
            "7\n",
            "61\n",
            "29\n",
            "95\n",
            "13\n",
            "66\n",
            "63\n",
            "11\n",
            "41\n",
            "50\n",
            "63\n",
            "41\n",
            "91\n",
            "6\n",
            "100\n",
            "71\n",
            "100\n",
            "85\n",
            "99\n",
            "67\n",
            "96\n",
            "94\n",
            "58\n",
            "53\n",
            "1\n",
            "53\n",
            "86\n",
            "38\n",
            "29\n",
            "91\n",
            " Nilai maksimum yang ditemukan adalah 100\n",
            "Nilai maksimum yang di-update 2 kali\n"
          ]
        }
      ]
    }
  ]
}